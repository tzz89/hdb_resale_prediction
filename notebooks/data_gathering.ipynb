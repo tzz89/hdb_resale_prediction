{
 "cells": [
  {
   "cell_type": "code",
   "execution_count": 1,
   "id": "d7b93e69",
   "metadata": {},
   "outputs": [],
   "source": [
    "# data libraries\n",
    "import pandas as pd\n",
    "import numpy as np\n",
    "\n",
    "#plotting libraries\n",
    "import plotly.express as px\n",
    "\n",
    "#python libraries\n",
    "import random\n",
    "import os\n",
    "import glob\n",
    "import requests\n",
    "import json\n",
    "import time\n",
    "\n",
    "#tqdm\n",
    "from tqdm import tqdm"
   ]
  },
  {
   "cell_type": "code",
   "execution_count": 2,
   "id": "64224c7f",
   "metadata": {},
   "outputs": [],
   "source": [
    "class CONFIG:\n",
    "    hdb_property_fp = os.path.join(\"..\",\"data\", \"hdb-property-information\", \"hdb-property-information.csv\")\n",
    "    hdb_resale_price_fps = glob.glob(\"../data/resale-flat-prices/*.csv\")\n",
    "    hdb_resale_price_fp = os.path.join(\"..\",\"data\",\"resale-flat-prices\", \n",
    "                                        \"resale-flat-prices-based-on-registration-date-from-jan-2017-onwards.csv\")"
   ]
  },
  {
   "cell_type": "markdown",
   "id": "ca59ccad",
   "metadata": {},
   "source": [
    "## Loading in the property information data"
   ]
  },
  {
   "cell_type": "code",
   "execution_count": 3,
   "id": "187bd738",
   "metadata": {},
   "outputs": [
    {
     "data": {
      "text/html": [
       "<div>\n",
       "<style scoped>\n",
       "    .dataframe tbody tr th:only-of-type {\n",
       "        vertical-align: middle;\n",
       "    }\n",
       "\n",
       "    .dataframe tbody tr th {\n",
       "        vertical-align: top;\n",
       "    }\n",
       "\n",
       "    .dataframe thead th {\n",
       "        text-align: right;\n",
       "    }\n",
       "</style>\n",
       "<table border=\"1\" class=\"dataframe\">\n",
       "  <thead>\n",
       "    <tr style=\"text-align: right;\">\n",
       "      <th></th>\n",
       "      <th>blk_no</th>\n",
       "      <th>street</th>\n",
       "      <th>max_floor_lvl</th>\n",
       "      <th>year_completed</th>\n",
       "      <th>residential</th>\n",
       "      <th>commercial</th>\n",
       "      <th>market_hawker</th>\n",
       "      <th>miscellaneous</th>\n",
       "      <th>multistorey_carpark</th>\n",
       "      <th>precinct_pavilion</th>\n",
       "      <th>total_dwelling_units</th>\n",
       "      <th>address</th>\n",
       "    </tr>\n",
       "  </thead>\n",
       "  <tbody>\n",
       "    <tr>\n",
       "      <th>0</th>\n",
       "      <td>1</td>\n",
       "      <td>BEACH RD</td>\n",
       "      <td>16</td>\n",
       "      <td>1970</td>\n",
       "      <td>Y</td>\n",
       "      <td>Y</td>\n",
       "      <td>N</td>\n",
       "      <td>N</td>\n",
       "      <td>N</td>\n",
       "      <td>N</td>\n",
       "      <td>142</td>\n",
       "      <td>1 BEACH RD</td>\n",
       "    </tr>\n",
       "    <tr>\n",
       "      <th>1</th>\n",
       "      <td>1</td>\n",
       "      <td>BEDOK STH AVE 1</td>\n",
       "      <td>14</td>\n",
       "      <td>1975</td>\n",
       "      <td>Y</td>\n",
       "      <td>N</td>\n",
       "      <td>N</td>\n",
       "      <td>Y</td>\n",
       "      <td>N</td>\n",
       "      <td>N</td>\n",
       "      <td>206</td>\n",
       "      <td>1 BEDOK STH AVE 1</td>\n",
       "    </tr>\n",
       "    <tr>\n",
       "      <th>2</th>\n",
       "      <td>1</td>\n",
       "      <td>CANTONMENT RD</td>\n",
       "      <td>2</td>\n",
       "      <td>2010</td>\n",
       "      <td>N</td>\n",
       "      <td>Y</td>\n",
       "      <td>N</td>\n",
       "      <td>N</td>\n",
       "      <td>N</td>\n",
       "      <td>N</td>\n",
       "      <td>0</td>\n",
       "      <td>1 CANTONMENT RD</td>\n",
       "    </tr>\n",
       "    <tr>\n",
       "      <th>3</th>\n",
       "      <td>1</td>\n",
       "      <td>CHAI CHEE RD</td>\n",
       "      <td>15</td>\n",
       "      <td>1982</td>\n",
       "      <td>Y</td>\n",
       "      <td>N</td>\n",
       "      <td>N</td>\n",
       "      <td>N</td>\n",
       "      <td>N</td>\n",
       "      <td>N</td>\n",
       "      <td>102</td>\n",
       "      <td>1 CHAI CHEE RD</td>\n",
       "    </tr>\n",
       "    <tr>\n",
       "      <th>4</th>\n",
       "      <td>1</td>\n",
       "      <td>CHANGI VILLAGE RD</td>\n",
       "      <td>4</td>\n",
       "      <td>1975</td>\n",
       "      <td>Y</td>\n",
       "      <td>Y</td>\n",
       "      <td>N</td>\n",
       "      <td>N</td>\n",
       "      <td>N</td>\n",
       "      <td>N</td>\n",
       "      <td>55</td>\n",
       "      <td>1 CHANGI VILLAGE RD</td>\n",
       "    </tr>\n",
       "  </tbody>\n",
       "</table>\n",
       "</div>"
      ],
      "text/plain": [
       "  blk_no             street  max_floor_lvl  year_completed residential  \\\n",
       "0      1           BEACH RD             16            1970           Y   \n",
       "1      1    BEDOK STH AVE 1             14            1975           Y   \n",
       "2      1      CANTONMENT RD              2            2010           N   \n",
       "3      1       CHAI CHEE RD             15            1982           Y   \n",
       "4      1  CHANGI VILLAGE RD              4            1975           Y   \n",
       "\n",
       "  commercial market_hawker miscellaneous multistorey_carpark  \\\n",
       "0          Y             N             N                   N   \n",
       "1          N             N             Y                   N   \n",
       "2          Y             N             N                   N   \n",
       "3          N             N             N                   N   \n",
       "4          Y             N             N                   N   \n",
       "\n",
       "  precinct_pavilion  total_dwelling_units              address  \n",
       "0                 N                   142           1 BEACH RD  \n",
       "1                 N                   206    1 BEDOK STH AVE 1  \n",
       "2                 N                     0      1 CANTONMENT RD  \n",
       "3                 N                   102       1 CHAI CHEE RD  \n",
       "4                 N                    55  1 CHANGI VILLAGE RD  "
      ]
     },
     "metadata": {},
     "output_type": "display_data"
    },
    {
     "name": "stdout",
     "output_type": "stream",
     "text": [
      "<class 'pandas.core.frame.DataFrame'>\n",
      "RangeIndex: 12442 entries, 0 to 12441\n",
      "Data columns (total 12 columns):\n",
      " #   Column                Non-Null Count  Dtype \n",
      "---  ------                --------------  ----- \n",
      " 0   blk_no                12442 non-null  object\n",
      " 1   street                12442 non-null  object\n",
      " 2   max_floor_lvl         12442 non-null  int64 \n",
      " 3   year_completed        12442 non-null  int64 \n",
      " 4   residential           12442 non-null  object\n",
      " 5   commercial            12442 non-null  object\n",
      " 6   market_hawker         12442 non-null  object\n",
      " 7   miscellaneous         12442 non-null  object\n",
      " 8   multistorey_carpark   12442 non-null  object\n",
      " 9   precinct_pavilion     12442 non-null  object\n",
      " 10  total_dwelling_units  12442 non-null  int64 \n",
      " 11  address               12442 non-null  object\n",
      "dtypes: int64(3), object(9)\n",
      "memory usage: 1.1+ MB\n"
     ]
    },
    {
     "data": {
      "text/plain": [
       "None"
      ]
     },
     "metadata": {},
     "output_type": "display_data"
    }
   ],
   "source": [
    "hdb_property_df = pd.read_csv(CONFIG.hdb_property_fp)\n",
    "hdb_property_df['address'] =hdb_property_df['blk_no'] + \" \" + hdb_property_df['street']\n",
    "hdb_property_df = hdb_property_df.drop([\"1room_sold\", \"2room_sold\", \n",
    "                                        \"3room_sold\", \"4room_sold\", \n",
    "                                        \"5room_sold\", \"exec_sold\",\n",
    "                                        \"multigen_sold\", \"studio_apartment_sold\",\n",
    "                                        \"1room_rental\", \"2room_rental\",\n",
    "                                        \"3room_rental\", \"other_room_rental\", \"bldg_contract_town\",\n",
    "                                        \"other_room_rental\"], axis=1)\n",
    "display(hdb_property_df.head())\n",
    "display(hdb_property_df.info())"
   ]
  },
  {
   "cell_type": "markdown",
   "id": "9f3383fc",
   "metadata": {},
   "source": [
    "## We want to get the geo-coordinate information in order to plot on mapbox 3d map\n",
    "1. we will use a kaggle dataset to get as much coordinates as we can and get the remaining via webscapping\n",
    "    - https://www.kaggle.com/denzilg/hdb-flat-prices-19902021-march?select=ALL+Prices+1990-2021+mar.csv"
   ]
  },
  {
   "cell_type": "code",
   "execution_count": 4,
   "id": "93820c6a",
   "metadata": {},
   "outputs": [
    {
     "data": {
      "text/html": [
       "<div>\n",
       "<style scoped>\n",
       "    .dataframe tbody tr th:only-of-type {\n",
       "        vertical-align: middle;\n",
       "    }\n",
       "\n",
       "    .dataframe tbody tr th {\n",
       "        vertical-align: top;\n",
       "    }\n",
       "\n",
       "    .dataframe thead th {\n",
       "        text-align: right;\n",
       "    }\n",
       "</style>\n",
       "<table border=\"1\" class=\"dataframe\">\n",
       "  <thead>\n",
       "    <tr style=\"text-align: right;\">\n",
       "      <th></th>\n",
       "      <th>address</th>\n",
       "      <th>latitude</th>\n",
       "      <th>longitude</th>\n",
       "    </tr>\n",
       "  </thead>\n",
       "  <tbody>\n",
       "    <tr>\n",
       "      <th>0</th>\n",
       "      <td>308 ANG MO KIO AVE 1</td>\n",
       "      <td>1.365485</td>\n",
       "      <td>103.844025</td>\n",
       "    </tr>\n",
       "    <tr>\n",
       "      <th>1</th>\n",
       "      <td>216 ANG MO KIO AVE 1</td>\n",
       "      <td>1.366272</td>\n",
       "      <td>103.841465</td>\n",
       "    </tr>\n",
       "    <tr>\n",
       "      <th>2</th>\n",
       "      <td>211 ANG MO KIO AVE 3</td>\n",
       "      <td>1.369226</td>\n",
       "      <td>103.841652</td>\n",
       "    </tr>\n",
       "    <tr>\n",
       "      <th>3</th>\n",
       "      <td>254 ANG MO KIO AVE 4</td>\n",
       "      <td>1.370276</td>\n",
       "      <td>103.834699</td>\n",
       "    </tr>\n",
       "    <tr>\n",
       "      <th>4</th>\n",
       "      <td>231 ANG MO KIO AVE 3</td>\n",
       "      <td>1.368640</td>\n",
       "      <td>103.837490</td>\n",
       "    </tr>\n",
       "  </tbody>\n",
       "</table>\n",
       "</div>"
      ],
      "text/plain": [
       "                address  latitude   longitude\n",
       "0  308 ANG MO KIO AVE 1  1.365485  103.844025\n",
       "1  216 ANG MO KIO AVE 1  1.366272  103.841465\n",
       "2  211 ANG MO KIO AVE 3  1.369226  103.841652\n",
       "3  254 ANG MO KIO AVE 4  1.370276  103.834699\n",
       "4  231 ANG MO KIO AVE 3  1.368640  103.837490"
      ]
     },
     "execution_count": 4,
     "metadata": {},
     "output_type": "execute_result"
    }
   ],
   "source": [
    "coordinates = pd.read_csv(\"../data/hdb_coordinates.csv\")\n",
    "coordinates['address'] = coordinates['address']\n",
    "coordinates.head()"
   ]
  },
  {
   "cell_type": "markdown",
   "id": "6d01cccb",
   "metadata": {},
   "source": [
    "## Merging hdb_property"
   ]
  },
  {
   "cell_type": "code",
   "execution_count": 5,
   "id": "cde83c6f",
   "metadata": {},
   "outputs": [
    {
     "data": {
      "text/html": [
       "<div>\n",
       "<style scoped>\n",
       "    .dataframe tbody tr th:only-of-type {\n",
       "        vertical-align: middle;\n",
       "    }\n",
       "\n",
       "    .dataframe tbody tr th {\n",
       "        vertical-align: top;\n",
       "    }\n",
       "\n",
       "    .dataframe thead th {\n",
       "        text-align: right;\n",
       "    }\n",
       "</style>\n",
       "<table border=\"1\" class=\"dataframe\">\n",
       "  <thead>\n",
       "    <tr style=\"text-align: right;\">\n",
       "      <th></th>\n",
       "      <th>blk_no</th>\n",
       "      <th>street</th>\n",
       "      <th>max_floor_lvl</th>\n",
       "      <th>year_completed</th>\n",
       "      <th>residential</th>\n",
       "      <th>commercial</th>\n",
       "      <th>market_hawker</th>\n",
       "      <th>miscellaneous</th>\n",
       "      <th>multistorey_carpark</th>\n",
       "      <th>precinct_pavilion</th>\n",
       "      <th>total_dwelling_units</th>\n",
       "      <th>address</th>\n",
       "      <th>latitude</th>\n",
       "      <th>longitude</th>\n",
       "    </tr>\n",
       "  </thead>\n",
       "  <tbody>\n",
       "    <tr>\n",
       "      <th>0</th>\n",
       "      <td>1</td>\n",
       "      <td>BEACH RD</td>\n",
       "      <td>16</td>\n",
       "      <td>1970</td>\n",
       "      <td>Y</td>\n",
       "      <td>Y</td>\n",
       "      <td>N</td>\n",
       "      <td>N</td>\n",
       "      <td>N</td>\n",
       "      <td>N</td>\n",
       "      <td>142</td>\n",
       "      <td>1 BEACH RD</td>\n",
       "      <td>1.303489</td>\n",
       "      <td>103.864529</td>\n",
       "    </tr>\n",
       "    <tr>\n",
       "      <th>1</th>\n",
       "      <td>1</td>\n",
       "      <td>BEDOK STH AVE 1</td>\n",
       "      <td>14</td>\n",
       "      <td>1975</td>\n",
       "      <td>Y</td>\n",
       "      <td>N</td>\n",
       "      <td>N</td>\n",
       "      <td>Y</td>\n",
       "      <td>N</td>\n",
       "      <td>N</td>\n",
       "      <td>206</td>\n",
       "      <td>1 BEDOK STH AVE 1</td>\n",
       "      <td>1.320836</td>\n",
       "      <td>103.933675</td>\n",
       "    </tr>\n",
       "    <tr>\n",
       "      <th>2</th>\n",
       "      <td>1</td>\n",
       "      <td>CANTONMENT RD</td>\n",
       "      <td>2</td>\n",
       "      <td>2010</td>\n",
       "      <td>N</td>\n",
       "      <td>Y</td>\n",
       "      <td>N</td>\n",
       "      <td>N</td>\n",
       "      <td>N</td>\n",
       "      <td>N</td>\n",
       "      <td>0</td>\n",
       "      <td>1 CANTONMENT RD</td>\n",
       "      <td>NaN</td>\n",
       "      <td>NaN</td>\n",
       "    </tr>\n",
       "    <tr>\n",
       "      <th>3</th>\n",
       "      <td>1</td>\n",
       "      <td>CHAI CHEE RD</td>\n",
       "      <td>15</td>\n",
       "      <td>1982</td>\n",
       "      <td>Y</td>\n",
       "      <td>N</td>\n",
       "      <td>N</td>\n",
       "      <td>N</td>\n",
       "      <td>N</td>\n",
       "      <td>N</td>\n",
       "      <td>102</td>\n",
       "      <td>1 CHAI CHEE RD</td>\n",
       "      <td>1.328015</td>\n",
       "      <td>103.922555</td>\n",
       "    </tr>\n",
       "    <tr>\n",
       "      <th>4</th>\n",
       "      <td>1</td>\n",
       "      <td>CHANGI VILLAGE RD</td>\n",
       "      <td>4</td>\n",
       "      <td>1975</td>\n",
       "      <td>Y</td>\n",
       "      <td>Y</td>\n",
       "      <td>N</td>\n",
       "      <td>N</td>\n",
       "      <td>N</td>\n",
       "      <td>N</td>\n",
       "      <td>55</td>\n",
       "      <td>1 CHANGI VILLAGE RD</td>\n",
       "      <td>1.388528</td>\n",
       "      <td>103.987631</td>\n",
       "    </tr>\n",
       "  </tbody>\n",
       "</table>\n",
       "</div>"
      ],
      "text/plain": [
       "  blk_no             street  max_floor_lvl  year_completed residential  \\\n",
       "0      1           BEACH RD             16            1970           Y   \n",
       "1      1    BEDOK STH AVE 1             14            1975           Y   \n",
       "2      1      CANTONMENT RD              2            2010           N   \n",
       "3      1       CHAI CHEE RD             15            1982           Y   \n",
       "4      1  CHANGI VILLAGE RD              4            1975           Y   \n",
       "\n",
       "  commercial market_hawker miscellaneous multistorey_carpark  \\\n",
       "0          Y             N             N                   N   \n",
       "1          N             N             Y                   N   \n",
       "2          Y             N             N                   N   \n",
       "3          N             N             N                   N   \n",
       "4          Y             N             N                   N   \n",
       "\n",
       "  precinct_pavilion  total_dwelling_units              address  latitude  \\\n",
       "0                 N                   142           1 BEACH RD  1.303489   \n",
       "1                 N                   206    1 BEDOK STH AVE 1  1.320836   \n",
       "2                 N                     0      1 CANTONMENT RD       NaN   \n",
       "3                 N                   102       1 CHAI CHEE RD  1.328015   \n",
       "4                 N                    55  1 CHANGI VILLAGE RD  1.388528   \n",
       "\n",
       "    longitude  \n",
       "0  103.864529  \n",
       "1  103.933675  \n",
       "2         NaN  \n",
       "3  103.922555  \n",
       "4  103.987631  "
      ]
     },
     "execution_count": 5,
     "metadata": {},
     "output_type": "execute_result"
    }
   ],
   "source": [
    "hdb_property_w_coordinate_df = hdb_property_df.merge(coordinates, how='left', on='address')\n",
    "hdb_property_w_coordinate_df.head()"
   ]
  },
  {
   "cell_type": "markdown",
   "id": "938e3813",
   "metadata": {},
   "source": [
    "## We are still missing 3232 coordinates"
   ]
  },
  {
   "cell_type": "code",
   "execution_count": 6,
   "id": "90260588",
   "metadata": {},
   "outputs": [
    {
     "data": {
      "text/plain": [
       "3232"
      ]
     },
     "execution_count": 6,
     "metadata": {},
     "output_type": "execute_result"
    }
   ],
   "source": [
    "hdb_property_w_coordinate_df[\"latitude\"].isna().sum()"
   ]
  },
  {
   "cell_type": "code",
   "execution_count": 7,
   "id": "d8168c9c",
   "metadata": {},
   "outputs": [],
   "source": [
    "hdb_property_without_coordinate_df = hdb_property_w_coordinate_df[hdb_property_w_coordinate_df[\"latitude\"].isna()]\n",
    "hdb_property_w_coordinate_df = hdb_property_w_coordinate_df[~hdb_property_w_coordinate_df[\"latitude\"].isna()]"
   ]
  },
  {
   "cell_type": "markdown",
   "id": "52e26944",
   "metadata": {},
   "source": [
    "## Lets scrap the coordinates from the web"
   ]
  },
  {
   "cell_type": "code",
   "execution_count": 165,
   "id": "55dd6989",
   "metadata": {},
   "outputs": [],
   "source": [
    "def get_coordinate_from_geocode(address):\n",
    "    \"\"\"\n",
    "    This function will take in address str and send http request to geocode\n",
    "    \"\"\"\n",
    "    try:\n",
    "        req = requests.get('https://developers.onemap.sg/commonapi/search?searchVal='+address+'&returnGeom=Y&getAddrDetails=Y&pageNum=1')\n",
    "        result_dict = json.loads(req.text)['results'][0]\n",
    "        latitude = result_dict['LATITUDE']\n",
    "        longitude =  result_dict['LONGITUDE']\n",
    "        return latitude, longitude\n",
    "    except Exception as e:\n",
    "        print(e)\n",
    "        return None, None\n",
    "\n",
    "def get_coordinates(address_list):\n",
    "    latitude_list=[]\n",
    "    longitude_list=[]\n",
    "    \n",
    "    for address in tqdm(address_list):\n",
    "        lat, long = get_coordinate_from_geocode(address)\n",
    "        latitude_list.append(lat)\n",
    "        longitude_list.append(long)\n",
    "        time.sleep(0.5)\n",
    "        \n",
    "    return latitude_list, longitude_list"
   ]
  },
  {
   "cell_type": "code",
   "execution_count": 166,
   "id": "d8363fe5",
   "metadata": {},
   "outputs": [
    {
     "name": "stderr",
     "output_type": "stream",
     "text": [
      " 19%|███████▍                                | 599/3232 [06:24<28:06,  1.56it/s]"
     ]
    },
    {
     "name": "stdout",
     "output_type": "stream",
     "text": [
      "list index out of range\n"
     ]
    },
    {
     "name": "stderr",
     "output_type": "stream",
     "text": [
      " 29%|███████████▌                            | 936/3232 [09:59<22:07,  1.73it/s]"
     ]
    },
    {
     "name": "stdout",
     "output_type": "stream",
     "text": [
      "list index out of range\n"
     ]
    },
    {
     "name": "stderr",
     "output_type": "stream",
     "text": [
      " 30%|███████████▊                            | 957/3232 [10:13<31:46,  1.19it/s]"
     ]
    },
    {
     "name": "stdout",
     "output_type": "stream",
     "text": [
      "list index out of range\n"
     ]
    },
    {
     "name": "stderr",
     "output_type": "stream",
     "text": [
      " 30%|███████████▊                            | 959/3232 [10:14<27:29,  1.38it/s]"
     ]
    },
    {
     "name": "stdout",
     "output_type": "stream",
     "text": [
      "list index out of range\n"
     ]
    },
    {
     "name": "stderr",
     "output_type": "stream",
     "text": [
      " 31%|███████████▋                          | 992/3232 [10:57<1:04:37,  1.73s/it]"
     ]
    },
    {
     "name": "stdout",
     "output_type": "stream",
     "text": [
      "list index out of range\n"
     ]
    },
    {
     "name": "stderr",
     "output_type": "stream",
     "text": [
      " 31%|████████████▎                           | 994/3232 [10:59<54:09,  1.45s/it]"
     ]
    },
    {
     "name": "stdout",
     "output_type": "stream",
     "text": [
      "list index out of range\n"
     ]
    },
    {
     "name": "stderr",
     "output_type": "stream",
     "text": [
      "\r",
      " 31%|████████████▎                           | 995/3232 [11:00<51:32,  1.38s/it]"
     ]
    },
    {
     "name": "stdout",
     "output_type": "stream",
     "text": [
      "list index out of range\n"
     ]
    },
    {
     "name": "stderr",
     "output_type": "stream",
     "text": [
      " 46%|██████████████████                     | 1500/3232 [17:20<17:56,  1.61it/s]"
     ]
    },
    {
     "name": "stdout",
     "output_type": "stream",
     "text": [
      "list index out of range\n"
     ]
    },
    {
     "name": "stderr",
     "output_type": "stream",
     "text": [
      " 47%|██████████████████▏                    | 1507/3232 [17:25<18:45,  1.53it/s]"
     ]
    },
    {
     "name": "stdout",
     "output_type": "stream",
     "text": [
      "list index out of range\n"
     ]
    },
    {
     "name": "stderr",
     "output_type": "stream",
     "text": [
      " 61%|███████████████████████▋               | 1958/3232 [22:29<13:10,  1.61it/s]"
     ]
    },
    {
     "name": "stdout",
     "output_type": "stream",
     "text": [
      "list index out of range\n"
     ]
    },
    {
     "name": "stderr",
     "output_type": "stream",
     "text": [
      "100%|███████████████████████████████████████| 3232/3232 [36:23<00:00,  1.48it/s]\n"
     ]
    }
   ],
   "source": [
    "latitude_list, longitude_list = get_coordinates(hdb_property_without_coordinate_df['address'].to_list())"
   ]
  },
  {
   "cell_type": "code",
   "execution_count": 167,
   "id": "c195738f",
   "metadata": {},
   "outputs": [],
   "source": [
    "hdb_property_without_coordinate_df['latitude'] = latitude_list\n",
    "hdb_property_without_coordinate_df[\"longitude\"] = longitude_list"
   ]
  },
  {
   "cell_type": "markdown",
   "id": "af5bf040",
   "metadata": {},
   "source": [
    "## There are 10 entries can did not return anything so we will manually add those in"
   ]
  },
  {
   "cell_type": "code",
   "execution_count": 8,
   "id": "741332c9",
   "metadata": {},
   "outputs": [],
   "source": [
    "# hdb_property_without_coordinate_df.to_csv(\"../data/hdb_property_coordinate.csv\")\n",
    "hdb_property_without_coordinate_df = pd.read_csv(\"../data/hdb_property_coordinate_reviewed.csv\", index_col=0)"
   ]
  },
  {
   "cell_type": "code",
   "execution_count": 9,
   "id": "aef4f96a",
   "metadata": {},
   "outputs": [],
   "source": [
    "hdb_property_w_coordinate_df = pd.concat([hdb_property_w_coordinate_df,hdb_property_without_coordinate_df])"
   ]
  },
  {
   "cell_type": "code",
   "execution_count": 10,
   "id": "793685a4",
   "metadata": {},
   "outputs": [
    {
     "data": {
      "text/html": [
       "<div>\n",
       "<style scoped>\n",
       "    .dataframe tbody tr th:only-of-type {\n",
       "        vertical-align: middle;\n",
       "    }\n",
       "\n",
       "    .dataframe tbody tr th {\n",
       "        vertical-align: top;\n",
       "    }\n",
       "\n",
       "    .dataframe thead th {\n",
       "        text-align: right;\n",
       "    }\n",
       "</style>\n",
       "<table border=\"1\" class=\"dataframe\">\n",
       "  <thead>\n",
       "    <tr style=\"text-align: right;\">\n",
       "      <th></th>\n",
       "      <th>blk_no</th>\n",
       "      <th>street</th>\n",
       "      <th>max_floor_lvl</th>\n",
       "      <th>year_completed</th>\n",
       "      <th>residential</th>\n",
       "      <th>commercial</th>\n",
       "      <th>market_hawker</th>\n",
       "      <th>miscellaneous</th>\n",
       "      <th>multistorey_carpark</th>\n",
       "      <th>precinct_pavilion</th>\n",
       "      <th>total_dwelling_units</th>\n",
       "      <th>address</th>\n",
       "      <th>latitude</th>\n",
       "      <th>longitude</th>\n",
       "    </tr>\n",
       "  </thead>\n",
       "  <tbody>\n",
       "    <tr>\n",
       "      <th>0</th>\n",
       "      <td>1</td>\n",
       "      <td>BEACH RD</td>\n",
       "      <td>16</td>\n",
       "      <td>1970</td>\n",
       "      <td>Y</td>\n",
       "      <td>Y</td>\n",
       "      <td>N</td>\n",
       "      <td>N</td>\n",
       "      <td>N</td>\n",
       "      <td>N</td>\n",
       "      <td>142</td>\n",
       "      <td>1 BEACH RD</td>\n",
       "      <td>1.303489</td>\n",
       "      <td>103.864529</td>\n",
       "    </tr>\n",
       "    <tr>\n",
       "      <th>1</th>\n",
       "      <td>1</td>\n",
       "      <td>BEDOK STH AVE 1</td>\n",
       "      <td>14</td>\n",
       "      <td>1975</td>\n",
       "      <td>Y</td>\n",
       "      <td>N</td>\n",
       "      <td>N</td>\n",
       "      <td>Y</td>\n",
       "      <td>N</td>\n",
       "      <td>N</td>\n",
       "      <td>206</td>\n",
       "      <td>1 BEDOK STH AVE 1</td>\n",
       "      <td>1.320836</td>\n",
       "      <td>103.933675</td>\n",
       "    </tr>\n",
       "    <tr>\n",
       "      <th>3</th>\n",
       "      <td>1</td>\n",
       "      <td>CHAI CHEE RD</td>\n",
       "      <td>15</td>\n",
       "      <td>1982</td>\n",
       "      <td>Y</td>\n",
       "      <td>N</td>\n",
       "      <td>N</td>\n",
       "      <td>N</td>\n",
       "      <td>N</td>\n",
       "      <td>N</td>\n",
       "      <td>102</td>\n",
       "      <td>1 CHAI CHEE RD</td>\n",
       "      <td>1.328015</td>\n",
       "      <td>103.922555</td>\n",
       "    </tr>\n",
       "    <tr>\n",
       "      <th>4</th>\n",
       "      <td>1</td>\n",
       "      <td>CHANGI VILLAGE RD</td>\n",
       "      <td>4</td>\n",
       "      <td>1975</td>\n",
       "      <td>Y</td>\n",
       "      <td>Y</td>\n",
       "      <td>N</td>\n",
       "      <td>N</td>\n",
       "      <td>N</td>\n",
       "      <td>N</td>\n",
       "      <td>55</td>\n",
       "      <td>1 CHANGI VILLAGE RD</td>\n",
       "      <td>1.388528</td>\n",
       "      <td>103.987631</td>\n",
       "    </tr>\n",
       "    <tr>\n",
       "      <th>5</th>\n",
       "      <td>1</td>\n",
       "      <td>DELTA AVE</td>\n",
       "      <td>25</td>\n",
       "      <td>1982</td>\n",
       "      <td>Y</td>\n",
       "      <td>N</td>\n",
       "      <td>N</td>\n",
       "      <td>N</td>\n",
       "      <td>N</td>\n",
       "      <td>N</td>\n",
       "      <td>96</td>\n",
       "      <td>1 DELTA AVE</td>\n",
       "      <td>1.292047</td>\n",
       "      <td>103.826927</td>\n",
       "    </tr>\n",
       "  </tbody>\n",
       "</table>\n",
       "</div>"
      ],
      "text/plain": [
       "  blk_no             street  max_floor_lvl  year_completed residential  \\\n",
       "0      1           BEACH RD             16            1970           Y   \n",
       "1      1    BEDOK STH AVE 1             14            1975           Y   \n",
       "3      1       CHAI CHEE RD             15            1982           Y   \n",
       "4      1  CHANGI VILLAGE RD              4            1975           Y   \n",
       "5      1          DELTA AVE             25            1982           Y   \n",
       "\n",
       "  commercial market_hawker miscellaneous multistorey_carpark  \\\n",
       "0          Y             N             N                   N   \n",
       "1          N             N             Y                   N   \n",
       "3          N             N             N                   N   \n",
       "4          Y             N             N                   N   \n",
       "5          N             N             N                   N   \n",
       "\n",
       "  precinct_pavilion  total_dwelling_units              address  latitude  \\\n",
       "0                 N                   142           1 BEACH RD  1.303489   \n",
       "1                 N                   206    1 BEDOK STH AVE 1  1.320836   \n",
       "3                 N                   102       1 CHAI CHEE RD  1.328015   \n",
       "4                 N                    55  1 CHANGI VILLAGE RD  1.388528   \n",
       "5                 N                    96          1 DELTA AVE  1.292047   \n",
       "\n",
       "    longitude  \n",
       "0  103.864529  \n",
       "1  103.933675  \n",
       "3  103.922555  \n",
       "4  103.987631  \n",
       "5  103.826927  "
      ]
     },
     "execution_count": 10,
     "metadata": {},
     "output_type": "execute_result"
    }
   ],
   "source": [
    "hdb_property_w_coordinate_df.head()"
   ]
  },
  {
   "cell_type": "markdown",
   "id": "96a5b831",
   "metadata": {},
   "source": [
    "## Loading in resale price data"
   ]
  },
  {
   "cell_type": "code",
   "execution_count": 13,
   "id": "1e410238",
   "metadata": {},
   "outputs": [
    {
     "data": {
      "text/html": [
       "<div>\n",
       "<style scoped>\n",
       "    .dataframe tbody tr th:only-of-type {\n",
       "        vertical-align: middle;\n",
       "    }\n",
       "\n",
       "    .dataframe tbody tr th {\n",
       "        vertical-align: top;\n",
       "    }\n",
       "\n",
       "    .dataframe thead th {\n",
       "        text-align: right;\n",
       "    }\n",
       "</style>\n",
       "<table border=\"1\" class=\"dataframe\">\n",
       "  <thead>\n",
       "    <tr style=\"text-align: right;\">\n",
       "      <th></th>\n",
       "      <th>month</th>\n",
       "      <th>town</th>\n",
       "      <th>flat_type</th>\n",
       "      <th>block</th>\n",
       "      <th>street_name</th>\n",
       "      <th>storey_range</th>\n",
       "      <th>floor_area_sqm</th>\n",
       "      <th>flat_model</th>\n",
       "      <th>lease_commence_date</th>\n",
       "      <th>remaining_lease</th>\n",
       "      <th>resale_price</th>\n",
       "    </tr>\n",
       "  </thead>\n",
       "  <tbody>\n",
       "    <tr>\n",
       "      <th>0</th>\n",
       "      <td>2015-01</td>\n",
       "      <td>ANG MO KIO</td>\n",
       "      <td>3 ROOM</td>\n",
       "      <td>174</td>\n",
       "      <td>ANG MO KIO AVE 4</td>\n",
       "      <td>07 TO 09</td>\n",
       "      <td>60.0</td>\n",
       "      <td>Improved</td>\n",
       "      <td>1986</td>\n",
       "      <td>70</td>\n",
       "      <td>255000.0</td>\n",
       "    </tr>\n",
       "    <tr>\n",
       "      <th>1</th>\n",
       "      <td>2015-01</td>\n",
       "      <td>ANG MO KIO</td>\n",
       "      <td>3 ROOM</td>\n",
       "      <td>541</td>\n",
       "      <td>ANG MO KIO AVE 10</td>\n",
       "      <td>01 TO 03</td>\n",
       "      <td>68.0</td>\n",
       "      <td>New Generation</td>\n",
       "      <td>1981</td>\n",
       "      <td>65</td>\n",
       "      <td>275000.0</td>\n",
       "    </tr>\n",
       "    <tr>\n",
       "      <th>2</th>\n",
       "      <td>2015-01</td>\n",
       "      <td>ANG MO KIO</td>\n",
       "      <td>3 ROOM</td>\n",
       "      <td>163</td>\n",
       "      <td>ANG MO KIO AVE 4</td>\n",
       "      <td>01 TO 03</td>\n",
       "      <td>69.0</td>\n",
       "      <td>New Generation</td>\n",
       "      <td>1980</td>\n",
       "      <td>64</td>\n",
       "      <td>285000.0</td>\n",
       "    </tr>\n",
       "    <tr>\n",
       "      <th>3</th>\n",
       "      <td>2015-01</td>\n",
       "      <td>ANG MO KIO</td>\n",
       "      <td>3 ROOM</td>\n",
       "      <td>446</td>\n",
       "      <td>ANG MO KIO AVE 10</td>\n",
       "      <td>01 TO 03</td>\n",
       "      <td>68.0</td>\n",
       "      <td>New Generation</td>\n",
       "      <td>1979</td>\n",
       "      <td>63</td>\n",
       "      <td>290000.0</td>\n",
       "    </tr>\n",
       "    <tr>\n",
       "      <th>4</th>\n",
       "      <td>2015-01</td>\n",
       "      <td>ANG MO KIO</td>\n",
       "      <td>3 ROOM</td>\n",
       "      <td>557</td>\n",
       "      <td>ANG MO KIO AVE 10</td>\n",
       "      <td>07 TO 09</td>\n",
       "      <td>68.0</td>\n",
       "      <td>New Generation</td>\n",
       "      <td>1980</td>\n",
       "      <td>64</td>\n",
       "      <td>290000.0</td>\n",
       "    </tr>\n",
       "  </tbody>\n",
       "</table>\n",
       "</div>"
      ],
      "text/plain": [
       "     month        town flat_type block        street_name storey_range  \\\n",
       "0  2015-01  ANG MO KIO    3 ROOM   174   ANG MO KIO AVE 4     07 TO 09   \n",
       "1  2015-01  ANG MO KIO    3 ROOM   541  ANG MO KIO AVE 10     01 TO 03   \n",
       "2  2015-01  ANG MO KIO    3 ROOM   163   ANG MO KIO AVE 4     01 TO 03   \n",
       "3  2015-01  ANG MO KIO    3 ROOM   446  ANG MO KIO AVE 10     01 TO 03   \n",
       "4  2015-01  ANG MO KIO    3 ROOM   557  ANG MO KIO AVE 10     07 TO 09   \n",
       "\n",
       "   floor_area_sqm      flat_model  lease_commence_date remaining_lease  \\\n",
       "0            60.0        Improved                 1986              70   \n",
       "1            68.0  New Generation                 1981              65   \n",
       "2            69.0  New Generation                 1980              64   \n",
       "3            68.0  New Generation                 1979              63   \n",
       "4            68.0  New Generation                 1980              64   \n",
       "\n",
       "   resale_price  \n",
       "0      255000.0  \n",
       "1      275000.0  \n",
       "2      285000.0  \n",
       "3      290000.0  \n",
       "4      290000.0  "
      ]
     },
     "metadata": {},
     "output_type": "display_data"
    },
    {
     "data": {
      "text/html": [
       "<div>\n",
       "<style scoped>\n",
       "    .dataframe tbody tr th:only-of-type {\n",
       "        vertical-align: middle;\n",
       "    }\n",
       "\n",
       "    .dataframe tbody tr th {\n",
       "        vertical-align: top;\n",
       "    }\n",
       "\n",
       "    .dataframe thead th {\n",
       "        text-align: right;\n",
       "    }\n",
       "</style>\n",
       "<table border=\"1\" class=\"dataframe\">\n",
       "  <thead>\n",
       "    <tr style=\"text-align: right;\">\n",
       "      <th></th>\n",
       "      <th>floor_area_sqm</th>\n",
       "      <th>lease_commence_date</th>\n",
       "      <th>resale_price</th>\n",
       "    </tr>\n",
       "  </thead>\n",
       "  <tbody>\n",
       "    <tr>\n",
       "      <th>count</th>\n",
       "      <td>203109.000000</td>\n",
       "      <td>203109.000000</td>\n",
       "      <td>2.031090e+05</td>\n",
       "    </tr>\n",
       "    <tr>\n",
       "      <th>mean</th>\n",
       "      <td>97.278123</td>\n",
       "      <td>1992.845940</td>\n",
       "      <td>4.548632e+05</td>\n",
       "    </tr>\n",
       "    <tr>\n",
       "      <th>std</th>\n",
       "      <td>24.385624</td>\n",
       "      <td>12.435018</td>\n",
       "      <td>1.462102e+05</td>\n",
       "    </tr>\n",
       "    <tr>\n",
       "      <th>min</th>\n",
       "      <td>31.000000</td>\n",
       "      <td>1966.000000</td>\n",
       "      <td>1.400000e+05</td>\n",
       "    </tr>\n",
       "    <tr>\n",
       "      <th>25%</th>\n",
       "      <td>76.000000</td>\n",
       "      <td>1984.000000</td>\n",
       "      <td>3.500000e+05</td>\n",
       "    </tr>\n",
       "    <tr>\n",
       "      <th>50%</th>\n",
       "      <td>95.000000</td>\n",
       "      <td>1992.000000</td>\n",
       "      <td>4.280000e+05</td>\n",
       "    </tr>\n",
       "    <tr>\n",
       "      <th>75%</th>\n",
       "      <td>112.000000</td>\n",
       "      <td>2002.000000</td>\n",
       "      <td>5.280000e+05</td>\n",
       "    </tr>\n",
       "    <tr>\n",
       "      <th>max</th>\n",
       "      <td>280.000000</td>\n",
       "      <td>2019.000000</td>\n",
       "      <td>1.295000e+06</td>\n",
       "    </tr>\n",
       "  </tbody>\n",
       "</table>\n",
       "</div>"
      ],
      "text/plain": [
       "       floor_area_sqm  lease_commence_date  resale_price\n",
       "count   203109.000000        203109.000000  2.031090e+05\n",
       "mean        97.278123          1992.845940  4.548632e+05\n",
       "std         24.385624            12.435018  1.462102e+05\n",
       "min         31.000000          1966.000000  1.400000e+05\n",
       "25%         76.000000          1984.000000  3.500000e+05\n",
       "50%         95.000000          1992.000000  4.280000e+05\n",
       "75%        112.000000          2002.000000  5.280000e+05\n",
       "max        280.000000          2019.000000  1.295000e+06"
      ]
     },
     "metadata": {},
     "output_type": "display_data"
    },
    {
     "data": {
      "text/html": [
       "<div>\n",
       "<style scoped>\n",
       "    .dataframe tbody tr th:only-of-type {\n",
       "        vertical-align: middle;\n",
       "    }\n",
       "\n",
       "    .dataframe tbody tr th {\n",
       "        vertical-align: top;\n",
       "    }\n",
       "\n",
       "    .dataframe thead th {\n",
       "        text-align: right;\n",
       "    }\n",
       "</style>\n",
       "<table border=\"1\" class=\"dataframe\">\n",
       "  <thead>\n",
       "    <tr style=\"text-align: right;\">\n",
       "      <th></th>\n",
       "      <th>month</th>\n",
       "      <th>town</th>\n",
       "      <th>flat_type</th>\n",
       "      <th>block</th>\n",
       "      <th>street_name</th>\n",
       "      <th>storey_range</th>\n",
       "      <th>floor_area_sqm</th>\n",
       "      <th>flat_model</th>\n",
       "      <th>lease_commence_date</th>\n",
       "      <th>remaining_lease</th>\n",
       "      <th>resale_price</th>\n",
       "      <th>address</th>\n",
       "    </tr>\n",
       "  </thead>\n",
       "  <tbody>\n",
       "    <tr>\n",
       "      <th>0</th>\n",
       "      <td>2015-01</td>\n",
       "      <td>ANG MO KIO</td>\n",
       "      <td>3 ROOM</td>\n",
       "      <td>174</td>\n",
       "      <td>ANG MO KIO AVE 4</td>\n",
       "      <td>07 TO 09</td>\n",
       "      <td>60.0</td>\n",
       "      <td>Improved</td>\n",
       "      <td>1986</td>\n",
       "      <td>70</td>\n",
       "      <td>255000.0</td>\n",
       "      <td>174 ANG MO KIO AVE 4</td>\n",
       "    </tr>\n",
       "    <tr>\n",
       "      <th>1</th>\n",
       "      <td>2015-01</td>\n",
       "      <td>ANG MO KIO</td>\n",
       "      <td>3 ROOM</td>\n",
       "      <td>541</td>\n",
       "      <td>ANG MO KIO AVE 10</td>\n",
       "      <td>01 TO 03</td>\n",
       "      <td>68.0</td>\n",
       "      <td>New Generation</td>\n",
       "      <td>1981</td>\n",
       "      <td>65</td>\n",
       "      <td>275000.0</td>\n",
       "      <td>541 ANG MO KIO AVE 10</td>\n",
       "    </tr>\n",
       "    <tr>\n",
       "      <th>2</th>\n",
       "      <td>2015-01</td>\n",
       "      <td>ANG MO KIO</td>\n",
       "      <td>3 ROOM</td>\n",
       "      <td>163</td>\n",
       "      <td>ANG MO KIO AVE 4</td>\n",
       "      <td>01 TO 03</td>\n",
       "      <td>69.0</td>\n",
       "      <td>New Generation</td>\n",
       "      <td>1980</td>\n",
       "      <td>64</td>\n",
       "      <td>285000.0</td>\n",
       "      <td>163 ANG MO KIO AVE 4</td>\n",
       "    </tr>\n",
       "    <tr>\n",
       "      <th>3</th>\n",
       "      <td>2015-01</td>\n",
       "      <td>ANG MO KIO</td>\n",
       "      <td>3 ROOM</td>\n",
       "      <td>446</td>\n",
       "      <td>ANG MO KIO AVE 10</td>\n",
       "      <td>01 TO 03</td>\n",
       "      <td>68.0</td>\n",
       "      <td>New Generation</td>\n",
       "      <td>1979</td>\n",
       "      <td>63</td>\n",
       "      <td>290000.0</td>\n",
       "      <td>446 ANG MO KIO AVE 10</td>\n",
       "    </tr>\n",
       "    <tr>\n",
       "      <th>4</th>\n",
       "      <td>2015-01</td>\n",
       "      <td>ANG MO KIO</td>\n",
       "      <td>3 ROOM</td>\n",
       "      <td>557</td>\n",
       "      <td>ANG MO KIO AVE 10</td>\n",
       "      <td>07 TO 09</td>\n",
       "      <td>68.0</td>\n",
       "      <td>New Generation</td>\n",
       "      <td>1980</td>\n",
       "      <td>64</td>\n",
       "      <td>290000.0</td>\n",
       "      <td>557 ANG MO KIO AVE 10</td>\n",
       "    </tr>\n",
       "  </tbody>\n",
       "</table>\n",
       "</div>"
      ],
      "text/plain": [
       "     month        town flat_type block        street_name storey_range  \\\n",
       "0  2015-01  ANG MO KIO    3 ROOM   174   ANG MO KIO AVE 4     07 TO 09   \n",
       "1  2015-01  ANG MO KIO    3 ROOM   541  ANG MO KIO AVE 10     01 TO 03   \n",
       "2  2015-01  ANG MO KIO    3 ROOM   163   ANG MO KIO AVE 4     01 TO 03   \n",
       "3  2015-01  ANG MO KIO    3 ROOM   446  ANG MO KIO AVE 10     01 TO 03   \n",
       "4  2015-01  ANG MO KIO    3 ROOM   557  ANG MO KIO AVE 10     07 TO 09   \n",
       "\n",
       "   floor_area_sqm      flat_model  lease_commence_date remaining_lease  \\\n",
       "0            60.0        Improved                 1986              70   \n",
       "1            68.0  New Generation                 1981              65   \n",
       "2            69.0  New Generation                 1980              64   \n",
       "3            68.0  New Generation                 1979              63   \n",
       "4            68.0  New Generation                 1980              64   \n",
       "\n",
       "   resale_price                address  \n",
       "0      255000.0   174 ANG MO KIO AVE 4  \n",
       "1      275000.0  541 ANG MO KIO AVE 10  \n",
       "2      285000.0   163 ANG MO KIO AVE 4  \n",
       "3      290000.0  446 ANG MO KIO AVE 10  \n",
       "4      290000.0  557 ANG MO KIO AVE 10  "
      ]
     },
     "metadata": {},
     "output_type": "display_data"
    },
    {
     "name": "stdout",
     "output_type": "stream",
     "text": [
      "<class 'pandas.core.frame.DataFrame'>\n",
      "RangeIndex: 203109 entries, 0 to 203108\n",
      "Data columns (total 12 columns):\n",
      " #   Column               Non-Null Count   Dtype  \n",
      "---  ------               --------------   -----  \n",
      " 0   month                203109 non-null  object \n",
      " 1   town                 203109 non-null  object \n",
      " 2   flat_type            203109 non-null  object \n",
      " 3   block                203109 non-null  object \n",
      " 4   street_name          203109 non-null  object \n",
      " 5   storey_range         203109 non-null  object \n",
      " 6   floor_area_sqm       203109 non-null  float64\n",
      " 7   flat_model           203109 non-null  object \n",
      " 8   lease_commence_date  203109 non-null  int64  \n",
      " 9   remaining_lease      150906 non-null  object \n",
      " 10  resale_price         203109 non-null  float64\n",
      " 11  address              203109 non-null  object \n",
      "dtypes: float64(2), int64(1), object(9)\n",
      "memory usage: 18.6+ MB\n"
     ]
    }
   ],
   "source": [
    "hdb_resale_prices = []\n",
    "for fp in CONFIG.hdb_resale_price_fps:\n",
    "    hdb_resale_prices.append(pd.read_csv(fp))\n",
    "hdb_resale_price_df = pd.concat(hdb_resale_prices).reset_index(drop=True)\n",
    "display(hdb_resale_price_df.head())\n",
    "display(hdb_resale_price_df.describe())\n",
    "\n",
    "# hdb_resale_price_df = pd.read_csv(CONFIG.hdb_resale_price_fp)\n",
    "hdb_resale_price_df['address'] = hdb_resale_price_df['block'] + \" \" + hdb_resale_price_df[\"street_name\"]\n",
    "display(hdb_resale_price_df.head())\n",
    "hdb_resale_price_df.info()"
   ]
  },
  {
   "cell_type": "markdown",
   "id": "54e8b744",
   "metadata": {},
   "source": [
    "## imputing Remaining_lease column"
   ]
  },
  {
   "cell_type": "code",
   "execution_count": 15,
   "id": "054473ea",
   "metadata": {},
   "outputs": [],
   "source": [
    "sub_df = hdb_resale_price_df.loc[hdb_resale_price_df[\"remaining_lease\"].isna()].copy()\n",
    "hdb_resale_price_df.loc[hdb_resale_price_df[\"remaining_lease\"].isna(),\"remaining_lease\"] = (99-(pd.to_datetime(sub_df[\"month\"]).dt.year-sub_df['lease_commence_date'])).astype(str) + \" years\""
   ]
  },
  {
   "cell_type": "markdown",
   "id": "0c0e768b",
   "metadata": {},
   "source": [
    "## Joining the df together before preprocessing the data"
   ]
  },
  {
   "cell_type": "code",
   "execution_count": 17,
   "id": "36b44c79",
   "metadata": {},
   "outputs": [],
   "source": [
    "raw_df = hdb_resale_price_df.merge(hdb_property_w_coordinate_df, how='left', on='address')"
   ]
  },
  {
   "cell_type": "code",
   "execution_count": 18,
   "id": "c94467b3",
   "metadata": {},
   "outputs": [
    {
     "name": "stdout",
     "output_type": "stream",
     "text": [
      "missing values due to joining 4\n"
     ]
    }
   ],
   "source": [
    "print(f\"missing values due to joining {raw_df['latitude'].isna().sum()}\")"
   ]
  },
  {
   "cell_type": "code",
   "execution_count": 19,
   "id": "8d9975c2",
   "metadata": {},
   "outputs": [],
   "source": [
    "#drop missing value as we dont even have the property information\n",
    "raw_df = raw_df.dropna()"
   ]
  },
  {
   "cell_type": "code",
   "execution_count": 20,
   "id": "64335a38",
   "metadata": {},
   "outputs": [
    {
     "name": "stdout",
     "output_type": "stream",
     "text": [
      "<class 'pandas.core.frame.DataFrame'>\n",
      "Int64Index: 203105 entries, 0 to 203108\n",
      "Data columns (total 25 columns):\n",
      " #   Column                Non-Null Count   Dtype  \n",
      "---  ------                --------------   -----  \n",
      " 0   month                 203105 non-null  object \n",
      " 1   town                  203105 non-null  object \n",
      " 2   flat_type             203105 non-null  object \n",
      " 3   block                 203105 non-null  object \n",
      " 4   street_name           203105 non-null  object \n",
      " 5   storey_range          203105 non-null  object \n",
      " 6   floor_area_sqm        203105 non-null  float64\n",
      " 7   flat_model            203105 non-null  object \n",
      " 8   lease_commence_date   203105 non-null  int64  \n",
      " 9   remaining_lease       203105 non-null  object \n",
      " 10  resale_price          203105 non-null  float64\n",
      " 11  address               203105 non-null  object \n",
      " 12  blk_no                203105 non-null  object \n",
      " 13  street                203105 non-null  object \n",
      " 14  max_floor_lvl         203105 non-null  float64\n",
      " 15  year_completed        203105 non-null  float64\n",
      " 16  residential           203105 non-null  object \n",
      " 17  commercial            203105 non-null  object \n",
      " 18  market_hawker         203105 non-null  object \n",
      " 19  miscellaneous         203105 non-null  object \n",
      " 20  multistorey_carpark   203105 non-null  object \n",
      " 21  precinct_pavilion     203105 non-null  object \n",
      " 22  total_dwelling_units  203105 non-null  float64\n",
      " 23  latitude              203105 non-null  float64\n",
      " 24  longitude             203105 non-null  float64\n",
      "dtypes: float64(7), int64(1), object(17)\n",
      "memory usage: 40.3+ MB\n"
     ]
    }
   ],
   "source": [
    "raw_df.info()"
   ]
  },
  {
   "cell_type": "code",
   "execution_count": 21,
   "id": "936ff41e",
   "metadata": {},
   "outputs": [
    {
     "data": {
      "text/plain": [
       "month                   0\n",
       "town                    0\n",
       "flat_type               0\n",
       "block                   0\n",
       "street_name             0\n",
       "storey_range            0\n",
       "floor_area_sqm          0\n",
       "flat_model              0\n",
       "lease_commence_date     0\n",
       "remaining_lease         0\n",
       "resale_price            0\n",
       "address                 0\n",
       "blk_no                  0\n",
       "street                  0\n",
       "max_floor_lvl           0\n",
       "year_completed          0\n",
       "residential             0\n",
       "commercial              0\n",
       "market_hawker           0\n",
       "miscellaneous           0\n",
       "multistorey_carpark     0\n",
       "precinct_pavilion       0\n",
       "total_dwelling_units    0\n",
       "latitude                0\n",
       "longitude               0\n",
       "dtype: int64"
      ]
     },
     "execution_count": 21,
     "metadata": {},
     "output_type": "execute_result"
    }
   ],
   "source": [
    "raw_df.isna().sum()"
   ]
  },
  {
   "cell_type": "code",
   "execution_count": 22,
   "id": "c116017c",
   "metadata": {},
   "outputs": [],
   "source": [
    "raw_df.to_csv(\"../data/raw_df.csv\", index=False)"
   ]
  },
  {
   "cell_type": "code",
   "execution_count": null,
   "id": "82b6d251",
   "metadata": {},
   "outputs": [],
   "source": []
  }
 ],
 "metadata": {
  "kernelspec": {
   "display_name": "Python 3 (ipykernel)",
   "language": "python",
   "name": "python3"
  },
  "language_info": {
   "codemirror_mode": {
    "name": "ipython",
    "version": 3
   },
   "file_extension": ".py",
   "mimetype": "text/x-python",
   "name": "python",
   "nbconvert_exporter": "python",
   "pygments_lexer": "ipython3",
   "version": "3.8.0"
  },
  "varInspector": {
   "cols": {
    "lenName": 16,
    "lenType": 16,
    "lenVar": 40
   },
   "kernels_config": {
    "python": {
     "delete_cmd_postfix": "",
     "delete_cmd_prefix": "del ",
     "library": "var_list.py",
     "varRefreshCmd": "print(var_dic_list())"
    },
    "r": {
     "delete_cmd_postfix": ") ",
     "delete_cmd_prefix": "rm(",
     "library": "var_list.r",
     "varRefreshCmd": "cat(var_dic_list()) "
    }
   },
   "types_to_exclude": [
    "module",
    "function",
    "builtin_function_or_method",
    "instance",
    "_Feature"
   ],
   "window_display": false
  }
 },
 "nbformat": 4,
 "nbformat_minor": 5
}
